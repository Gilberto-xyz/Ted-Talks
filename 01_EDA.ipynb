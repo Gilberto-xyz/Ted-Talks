{
 "cells": [
  {
   "cell_type": "markdown",
   "metadata": {},
   "source": [
    "### Librerias"
   ]
  },
  {
   "cell_type": "code",
   "execution_count": 2,
   "metadata": {},
   "outputs": [],
   "source": [
    "import numpy as np\n",
    "import pandas as pd"
   ]
  },
  {
   "cell_type": "markdown",
   "metadata": {},
   "source": [
    "### Analisis exploratorio"
   ]
  },
  {
   "cell_type": "code",
   "execution_count": 3,
   "metadata": {},
   "outputs": [
    {
     "data": {
      "text/html": [
       "<div>\n",
       "<style scoped>\n",
       "    .dataframe tbody tr th:only-of-type {\n",
       "        vertical-align: middle;\n",
       "    }\n",
       "\n",
       "    .dataframe tbody tr th {\n",
       "        vertical-align: top;\n",
       "    }\n",
       "\n",
       "    .dataframe thead th {\n",
       "        text-align: right;\n",
       "    }\n",
       "</style>\n",
       "<table border=\"1\" class=\"dataframe\">\n",
       "  <thead>\n",
       "    <tr style=\"text-align: right;\">\n",
       "      <th></th>\n",
       "      <th>title</th>\n",
       "      <th>author</th>\n",
       "      <th>date</th>\n",
       "      <th>views</th>\n",
       "      <th>likes</th>\n",
       "      <th>link</th>\n",
       "    </tr>\n",
       "  </thead>\n",
       "  <tbody>\n",
       "    <tr>\n",
       "      <th>0</th>\n",
       "      <td>Climate action needs new frontline leadership</td>\n",
       "      <td>Ozawa Bineshi Albert</td>\n",
       "      <td>December 2021</td>\n",
       "      <td>404000</td>\n",
       "      <td>12000</td>\n",
       "      <td>https://ted.com/talks/ozawa_bineshi_albert_cli...</td>\n",
       "    </tr>\n",
       "    <tr>\n",
       "      <th>1</th>\n",
       "      <td>The dark history of the overthrow of Hawaii</td>\n",
       "      <td>Sydney Iaukea</td>\n",
       "      <td>February 2022</td>\n",
       "      <td>214000</td>\n",
       "      <td>6400</td>\n",
       "      <td>https://ted.com/talks/sydney_iaukea_the_dark_h...</td>\n",
       "    </tr>\n",
       "    <tr>\n",
       "      <th>2</th>\n",
       "      <td>How play can spark new ideas for your business</td>\n",
       "      <td>Martin Reeves</td>\n",
       "      <td>September 2021</td>\n",
       "      <td>412000</td>\n",
       "      <td>12000</td>\n",
       "      <td>https://ted.com/talks/martin_reeves_how_play_c...</td>\n",
       "    </tr>\n",
       "    <tr>\n",
       "      <th>3</th>\n",
       "      <td>Why is China appointing judges to combat clima...</td>\n",
       "      <td>James K. Thornton</td>\n",
       "      <td>October 2021</td>\n",
       "      <td>427000</td>\n",
       "      <td>12000</td>\n",
       "      <td>https://ted.com/talks/james_k_thornton_why_is_...</td>\n",
       "    </tr>\n",
       "    <tr>\n",
       "      <th>4</th>\n",
       "      <td>Cement's carbon problem — and 2 ways to fix it</td>\n",
       "      <td>Mahendra Singhi</td>\n",
       "      <td>October 2021</td>\n",
       "      <td>2400</td>\n",
       "      <td>72</td>\n",
       "      <td>https://ted.com/talks/mahendra_singhi_cement_s...</td>\n",
       "    </tr>\n",
       "    <tr>\n",
       "      <th>5</th>\n",
       "      <td>The tragedy of air pollution — and an urgent d...</td>\n",
       "      <td>Rosamund Adoo-Kissi-Debrah</td>\n",
       "      <td>October 2021</td>\n",
       "      <td>422000</td>\n",
       "      <td>12000</td>\n",
       "      <td>https://ted.com/talks/rosamund_adoo_kissi_debr...</td>\n",
       "    </tr>\n",
       "    <tr>\n",
       "      <th>6</th>\n",
       "      <td>The myth of Narcissus and Echo</td>\n",
       "      <td>Iseult Gillespie</td>\n",
       "      <td>February 2022</td>\n",
       "      <td>412000</td>\n",
       "      <td>12000</td>\n",
       "      <td>https://ted.com/talks/iseult_gillespie_the_myt...</td>\n",
       "    </tr>\n",
       "    <tr>\n",
       "      <th>7</th>\n",
       "      <td>You deserve the right to repair your stuff</td>\n",
       "      <td>Gay Gordon-Byrne</td>\n",
       "      <td>August 2021</td>\n",
       "      <td>455000</td>\n",
       "      <td>13000</td>\n",
       "      <td>https://ted.com/talks/gay_gordon_byrne_you_des...</td>\n",
       "    </tr>\n",
       "    <tr>\n",
       "      <th>8</th>\n",
       "      <td>What nature can teach us about sustainable bus...</td>\n",
       "      <td>Erin Meezan</td>\n",
       "      <td>February 2022</td>\n",
       "      <td>66000</td>\n",
       "      <td>1900</td>\n",
       "      <td>https://ted.com/talks/erin_meezan_what_nature_...</td>\n",
       "    </tr>\n",
       "    <tr>\n",
       "      <th>9</th>\n",
       "      <td>The origins of blackface and Black stereotypes</td>\n",
       "      <td>Dwan Reece</td>\n",
       "      <td>March 2019</td>\n",
       "      <td>584000</td>\n",
       "      <td>17000</td>\n",
       "      <td>https://ted.com/talks/dwan_reece_the_origins_o...</td>\n",
       "    </tr>\n",
       "  </tbody>\n",
       "</table>\n",
       "</div>"
      ],
      "text/plain": [
       "                                               title  \\\n",
       "0      Climate action needs new frontline leadership   \n",
       "1        The dark history of the overthrow of Hawaii   \n",
       "2     How play can spark new ideas for your business   \n",
       "3  Why is China appointing judges to combat clima...   \n",
       "4     Cement's carbon problem — and 2 ways to fix it   \n",
       "5  The tragedy of air pollution — and an urgent d...   \n",
       "6                     The myth of Narcissus and Echo   \n",
       "7         You deserve the right to repair your stuff   \n",
       "8  What nature can teach us about sustainable bus...   \n",
       "9     The origins of blackface and Black stereotypes   \n",
       "\n",
       "                       author            date   views  likes  \\\n",
       "0        Ozawa Bineshi Albert   December 2021  404000  12000   \n",
       "1               Sydney Iaukea   February 2022  214000   6400   \n",
       "2               Martin Reeves  September 2021  412000  12000   \n",
       "3           James K. Thornton    October 2021  427000  12000   \n",
       "4             Mahendra Singhi    October 2021    2400     72   \n",
       "5  Rosamund Adoo-Kissi-Debrah    October 2021  422000  12000   \n",
       "6            Iseult Gillespie   February 2022  412000  12000   \n",
       "7            Gay Gordon-Byrne     August 2021  455000  13000   \n",
       "8                 Erin Meezan   February 2022   66000   1900   \n",
       "9                  Dwan Reece      March 2019  584000  17000   \n",
       "\n",
       "                                                link  \n",
       "0  https://ted.com/talks/ozawa_bineshi_albert_cli...  \n",
       "1  https://ted.com/talks/sydney_iaukea_the_dark_h...  \n",
       "2  https://ted.com/talks/martin_reeves_how_play_c...  \n",
       "3  https://ted.com/talks/james_k_thornton_why_is_...  \n",
       "4  https://ted.com/talks/mahendra_singhi_cement_s...  \n",
       "5  https://ted.com/talks/rosamund_adoo_kissi_debr...  \n",
       "6  https://ted.com/talks/iseult_gillespie_the_myt...  \n",
       "7  https://ted.com/talks/gay_gordon_byrne_you_des...  \n",
       "8  https://ted.com/talks/erin_meezan_what_nature_...  \n",
       "9  https://ted.com/talks/dwan_reece_the_origins_o...  "
      ]
     },
     "execution_count": 3,
     "metadata": {},
     "output_type": "execute_result"
    }
   ],
   "source": [
    "# Cargamos el dataset y mostramos los primeros 10 registros\n",
    "\n",
    "talks_df = pd.read_csv('raw_data/ted_talks.csv')\n",
    "talks_df.head(10)\n",
    "# talks_df.tail(10)"
   ]
  },
  {
   "cell_type": "markdown",
   "metadata": {},
   "source": [
    "Este dataset contiene registros hasta 2022."
   ]
  },
  {
   "cell_type": "code",
   "execution_count": 4,
   "metadata": {},
   "outputs": [
    {
     "name": "stdout",
     "output_type": "stream",
     "text": [
      "<class 'pandas.core.frame.DataFrame'>\n",
      "RangeIndex: 5440 entries, 0 to 5439\n",
      "Data columns (total 6 columns):\n",
      " #   Column  Non-Null Count  Dtype \n",
      "---  ------  --------------  ----- \n",
      " 0   title   5440 non-null   object\n",
      " 1   author  5439 non-null   object\n",
      " 2   date    5440 non-null   object\n",
      " 3   views   5440 non-null   int64 \n",
      " 4   likes   5440 non-null   int64 \n",
      " 5   link    5440 non-null   object\n",
      "dtypes: int64(2), object(4)\n",
      "memory usage: 255.1+ KB\n"
     ]
    }
   ],
   "source": [
    "talks_df.info()"
   ]
  },
  {
   "cell_type": "markdown",
   "metadata": {},
   "source": [
    "Existen 5440 pero tenemos un dato faltante en la columna de Autores."
   ]
  },
  {
   "cell_type": "code",
   "execution_count": 5,
   "metadata": {},
   "outputs": [
    {
     "data": {
      "text/html": [
       "<div>\n",
       "<style scoped>\n",
       "    .dataframe tbody tr th:only-of-type {\n",
       "        vertical-align: middle;\n",
       "    }\n",
       "\n",
       "    .dataframe tbody tr th {\n",
       "        vertical-align: top;\n",
       "    }\n",
       "\n",
       "    .dataframe thead th {\n",
       "        text-align: right;\n",
       "    }\n",
       "</style>\n",
       "<table border=\"1\" class=\"dataframe\">\n",
       "  <thead>\n",
       "    <tr style=\"text-align: right;\">\n",
       "      <th></th>\n",
       "      <th>title</th>\n",
       "      <th>author</th>\n",
       "      <th>date</th>\n",
       "      <th>views</th>\n",
       "      <th>likes</th>\n",
       "      <th>link</th>\n",
       "    </tr>\n",
       "  </thead>\n",
       "  <tbody>\n",
       "    <tr>\n",
       "      <th>3039</th>\n",
       "      <td>Year In Ideas 2015</td>\n",
       "      <td>NaN</td>\n",
       "      <td>December 2015</td>\n",
       "      <td>532</td>\n",
       "      <td>15</td>\n",
       "      <td>https://ted.com/talks/year_in_ideas_2015</td>\n",
       "    </tr>\n",
       "  </tbody>\n",
       "</table>\n",
       "</div>"
      ],
      "text/plain": [
       "                   title author           date  views  likes  \\\n",
       "3039  Year In Ideas 2015    NaN  December 2015    532     15   \n",
       "\n",
       "                                          link  \n",
       "3039  https://ted.com/talks/year_in_ideas_2015  "
      ]
     },
     "execution_count": 5,
     "metadata": {},
     "output_type": "execute_result"
    }
   ],
   "source": [
    "# Mostramos el registro del autor que falta\n",
    "talks_df[talks_df['author'].isnull()]"
   ]
  },
  {
   "cell_type": "markdown",
   "metadata": {},
   "source": [
    "Esta charla es un resumen, el cual no contiene un autor y se eliminara para la integridad del dataset.\n",
    "\n",
    "(Te invito a ver el resumen, es interesante ver como algunas tecnologías evolucionaron rápidamente, pero también algunos problemas se mantuvieron a pesar de los años)\n"
   ]
  },
  {
   "cell_type": "code",
   "execution_count": 6,
   "metadata": {},
   "outputs": [],
   "source": [
    "# Dataframe que excluye el registro de autor faltante\n",
    "talks_clean = talks_df[~talks_df['author'].isnull()]"
   ]
  },
  {
   "cell_type": "code",
   "execution_count": 7,
   "metadata": {},
   "outputs": [
    {
     "name": "stdout",
     "output_type": "stream",
     "text": [
      "<class 'pandas.core.frame.DataFrame'>\n",
      "Int64Index: 5439 entries, 0 to 5439\n",
      "Data columns (total 6 columns):\n",
      " #   Column  Non-Null Count  Dtype \n",
      "---  ------  --------------  ----- \n",
      " 0   title   5439 non-null   object\n",
      " 1   author  5439 non-null   object\n",
      " 2   date    5439 non-null   object\n",
      " 3   views   5439 non-null   int64 \n",
      " 4   likes   5439 non-null   int64 \n",
      " 5   link    5439 non-null   object\n",
      "dtypes: int64(2), object(4)\n",
      "memory usage: 297.4+ KB\n"
     ]
    }
   ],
   "source": [
    "talks_clean.info()"
   ]
  },
  {
   "cell_type": "markdown",
   "metadata": {},
   "source": [
    "Mostramos los datos únicos de cada columna dentro del dataset."
   ]
  },
  {
   "cell_type": "code",
   "execution_count": 8,
   "metadata": {},
   "outputs": [
    {
     "name": "stdout",
     "output_type": "stream",
     "text": [
      "Valores unicos en la columna title: 5439\n",
      "Valores unicos en la columna author: 4443\n",
      "Valores unicos en la columna date: 200\n",
      "Valores unicos en la columna views: 972\n",
      "Valores unicos en la columna likes: 752\n",
      "Valores unicos en la columna link: 5439\n"
     ]
    }
   ],
   "source": [
    "for columna in talks_clean.columns:\n",
    "    print(f'Valores unicos en la columna {columna}: {talks_clean[columna].nunique()}')"
   ]
  },
  {
   "cell_type": "markdown",
   "metadata": {},
   "source": [
    "- Los Valores únicos en la columna author son: 4,443. Lo que indica que existen autores con más de una charla en el dataset.\n",
    "\n",
    "- Los Valores únicos en la columna title son: 5,439. (Es el número total de registros con los que estamos trabajando)\n"
   ]
  },
  {
   "cell_type": "code",
   "execution_count": 9,
   "metadata": {},
   "outputs": [
    {
     "data": {
      "text/plain": [
       "996"
      ]
     },
     "execution_count": 9,
     "metadata": {},
     "output_type": "execute_result"
    }
   ],
   "source": [
    "# Restamos el numero total de registros y el numero de autores unicos para obtener el numero de autores faltantes\n",
    "talks_clean['author'].count() - talks_clean['author'].nunique() "
   ]
  },
  {
   "cell_type": "code",
   "execution_count": 10,
   "metadata": {},
   "outputs": [
    {
     "data": {
      "text/html": [
       "<div>\n",
       "<style scoped>\n",
       "    .dataframe tbody tr th:only-of-type {\n",
       "        vertical-align: middle;\n",
       "    }\n",
       "\n",
       "    .dataframe tbody tr th {\n",
       "        vertical-align: top;\n",
       "    }\n",
       "\n",
       "    .dataframe thead th {\n",
       "        text-align: right;\n",
       "    }\n",
       "</style>\n",
       "<table border=\"1\" class=\"dataframe\">\n",
       "  <thead>\n",
       "    <tr style=\"text-align: right;\">\n",
       "      <th></th>\n",
       "      <th>title</th>\n",
       "      <th>author</th>\n",
       "      <th>date</th>\n",
       "      <th>views</th>\n",
       "      <th>likes</th>\n",
       "      <th>link</th>\n",
       "    </tr>\n",
       "  </thead>\n",
       "  <tbody>\n",
       "    <tr>\n",
       "      <th>43</th>\n",
       "      <td>The tragic myth of the Sun God's son</td>\n",
       "      <td>Iseult Gillespie</td>\n",
       "      <td>January 2022</td>\n",
       "      <td>998000</td>\n",
       "      <td>29000</td>\n",
       "      <td>https://ted.com/talks/iseult_gillespie_the_tra...</td>\n",
       "    </tr>\n",
       "    <tr>\n",
       "      <th>58</th>\n",
       "      <td>The myth of Loki's monstrous children</td>\n",
       "      <td>Iseult Gillespie</td>\n",
       "      <td>January 2022</td>\n",
       "      <td>761000</td>\n",
       "      <td>22000</td>\n",
       "      <td>https://ted.com/talks/iseult_gillespie_the_myt...</td>\n",
       "    </tr>\n",
       "    <tr>\n",
       "      <th>61</th>\n",
       "      <td>Human-centered justice</td>\n",
       "      <td>American Family Insurance</td>\n",
       "      <td>January 2022</td>\n",
       "      <td>11000</td>\n",
       "      <td>342</td>\n",
       "      <td>https://ted.com/talks/american_family_insuranc...</td>\n",
       "    </tr>\n",
       "    <tr>\n",
       "      <th>77</th>\n",
       "      <td>How to deal with your insomnia — and finally g...</td>\n",
       "      <td>Matt Walker</td>\n",
       "      <td>December 2021</td>\n",
       "      <td>311000</td>\n",
       "      <td>9300</td>\n",
       "      <td>https://ted.com/talks/matt_walker_how_to_deal_...</td>\n",
       "    </tr>\n",
       "    <tr>\n",
       "      <th>95</th>\n",
       "      <td>How sleep affects what (and how much) you eat</td>\n",
       "      <td>Matt Walker</td>\n",
       "      <td>December 2021</td>\n",
       "      <td>315000</td>\n",
       "      <td>9400</td>\n",
       "      <td>https://ted.com/talks/matt_walker_how_sleep_af...</td>\n",
       "    </tr>\n",
       "    <tr>\n",
       "      <th>...</th>\n",
       "      <td>...</td>\n",
       "      <td>...</td>\n",
       "      <td>...</td>\n",
       "      <td>...</td>\n",
       "      <td>...</td>\n",
       "      <td>...</td>\n",
       "    </tr>\n",
       "    <tr>\n",
       "      <th>5435</th>\n",
       "      <td>The best stats you've ever seen</td>\n",
       "      <td>Hans Rosling</td>\n",
       "      <td>February 2006</td>\n",
       "      <td>15000000</td>\n",
       "      <td>458000</td>\n",
       "      <td>https://ted.com/talks/hans_rosling_the_best_st...</td>\n",
       "    </tr>\n",
       "    <tr>\n",
       "      <th>5436</th>\n",
       "      <td>Do schools kill creativity?</td>\n",
       "      <td>Sir Ken Robinson</td>\n",
       "      <td>February 2006</td>\n",
       "      <td>72000000</td>\n",
       "      <td>2100000</td>\n",
       "      <td>https://ted.com/talks/sir_ken_robinson_do_scho...</td>\n",
       "    </tr>\n",
       "    <tr>\n",
       "      <th>5437</th>\n",
       "      <td>Greening the ghetto</td>\n",
       "      <td>Majora Carter</td>\n",
       "      <td>February 2006</td>\n",
       "      <td>2900000</td>\n",
       "      <td>88000</td>\n",
       "      <td>https://ted.com/talks/majora_carter_greening_t...</td>\n",
       "    </tr>\n",
       "    <tr>\n",
       "      <th>5438</th>\n",
       "      <td>Simplicity sells</td>\n",
       "      <td>David Pogue</td>\n",
       "      <td>February 2006</td>\n",
       "      <td>2000000</td>\n",
       "      <td>60000</td>\n",
       "      <td>https://ted.com/talks/david_pogue_simplicity_s...</td>\n",
       "    </tr>\n",
       "    <tr>\n",
       "      <th>5439</th>\n",
       "      <td>Averting the climate crisis</td>\n",
       "      <td>Al Gore</td>\n",
       "      <td>February 2006</td>\n",
       "      <td>3600000</td>\n",
       "      <td>109000</td>\n",
       "      <td>https://ted.com/talks/al_gore_averting_the_cli...</td>\n",
       "    </tr>\n",
       "  </tbody>\n",
       "</table>\n",
       "<p>996 rows × 6 columns</p>\n",
       "</div>"
      ],
      "text/plain": [
       "                                                  title  \\\n",
       "43                 The tragic myth of the Sun God's son   \n",
       "58                The myth of Loki's monstrous children   \n",
       "61                               Human-centered justice   \n",
       "77    How to deal with your insomnia — and finally g...   \n",
       "95        How sleep affects what (and how much) you eat   \n",
       "...                                                 ...   \n",
       "5435                    The best stats you've ever seen   \n",
       "5436                        Do schools kill creativity?   \n",
       "5437                                Greening the ghetto   \n",
       "5438                                   Simplicity sells   \n",
       "5439                        Averting the climate crisis   \n",
       "\n",
       "                         author           date     views    likes  \\\n",
       "43             Iseult Gillespie   January 2022    998000    29000   \n",
       "58             Iseult Gillespie   January 2022    761000    22000   \n",
       "61    American Family Insurance   January 2022     11000      342   \n",
       "77                  Matt Walker  December 2021    311000     9300   \n",
       "95                  Matt Walker  December 2021    315000     9400   \n",
       "...                         ...            ...       ...      ...   \n",
       "5435               Hans Rosling  February 2006  15000000   458000   \n",
       "5436           Sir Ken Robinson  February 2006  72000000  2100000   \n",
       "5437              Majora Carter  February 2006   2900000    88000   \n",
       "5438                David Pogue  February 2006   2000000    60000   \n",
       "5439                    Al Gore  February 2006   3600000   109000   \n",
       "\n",
       "                                                   link  \n",
       "43    https://ted.com/talks/iseult_gillespie_the_tra...  \n",
       "58    https://ted.com/talks/iseult_gillespie_the_myt...  \n",
       "61    https://ted.com/talks/american_family_insuranc...  \n",
       "77    https://ted.com/talks/matt_walker_how_to_deal_...  \n",
       "95    https://ted.com/talks/matt_walker_how_sleep_af...  \n",
       "...                                                 ...  \n",
       "5435  https://ted.com/talks/hans_rosling_the_best_st...  \n",
       "5436  https://ted.com/talks/sir_ken_robinson_do_scho...  \n",
       "5437  https://ted.com/talks/majora_carter_greening_t...  \n",
       "5438  https://ted.com/talks/david_pogue_simplicity_s...  \n",
       "5439  https://ted.com/talks/al_gore_averting_the_cli...  \n",
       "\n",
       "[996 rows x 6 columns]"
      ]
     },
     "execution_count": 10,
     "metadata": {},
     "output_type": "execute_result"
    }
   ],
   "source": [
    "# Mostrar las celdas que contienen autores repetidos\n",
    "talks_clean[talks_clean['author'].duplicated()]\n",
    "\n",
    "# Contamos todos los registros que contienen autores repetidos\n",
    "# talks_clean[talks_clean['author'].duplicated()].count()"
   ]
  },
  {
   "cell_type": "markdown",
   "metadata": {},
   "source": [
    "La fecha contiene un formato poco habitual, por lo que se dividirá en mes y año."
   ]
  },
  {
   "cell_type": "code",
   "execution_count": 11,
   "metadata": {},
   "outputs": [
    {
     "name": "stderr",
     "output_type": "stream",
     "text": [
      "C:\\Users\\G\\AppData\\Local\\Programs\\Python\\Python310\\lib\\site-packages\\pandas\\core\\frame.py:3641: SettingWithCopyWarning: \n",
      "A value is trying to be set on a copy of a slice from a DataFrame.\n",
      "Try using .loc[row_indexer,col_indexer] = value instead\n",
      "\n",
      "See the caveats in the documentation: https://pandas.pydata.org/pandas-docs/stable/user_guide/indexing.html#returning-a-view-versus-a-copy\n",
      "  self[k1] = value[k2]\n"
     ]
    }
   ],
   "source": [
    "talks_clean[['month', 'year']] = talks_clean['date'].str.split(' ', expand=True)"
   ]
  },
  {
   "cell_type": "code",
   "execution_count": 12,
   "metadata": {},
   "outputs": [
    {
     "name": "stderr",
     "output_type": "stream",
     "text": [
      "C:\\Users\\G\\AppData\\Local\\Programs\\Python\\Python310\\lib\\site-packages\\pandas\\core\\frame.py:4906: SettingWithCopyWarning: \n",
      "A value is trying to be set on a copy of a slice from a DataFrame\n",
      "\n",
      "See the caveats in the documentation: https://pandas.pydata.org/pandas-docs/stable/user_guide/indexing.html#returning-a-view-versus-a-copy\n",
      "  return super().drop(\n"
     ]
    }
   ],
   "source": [
    "# Eliminar la columna de date\n",
    "talks_clean.drop(columns=['date'], inplace=True)"
   ]
  },
  {
   "cell_type": "code",
   "execution_count": 13,
   "metadata": {},
   "outputs": [
    {
     "data": {
      "text/html": [
       "<div>\n",
       "<style scoped>\n",
       "    .dataframe tbody tr th:only-of-type {\n",
       "        vertical-align: middle;\n",
       "    }\n",
       "\n",
       "    .dataframe tbody tr th {\n",
       "        vertical-align: top;\n",
       "    }\n",
       "\n",
       "    .dataframe thead th {\n",
       "        text-align: right;\n",
       "    }\n",
       "</style>\n",
       "<table border=\"1\" class=\"dataframe\">\n",
       "  <thead>\n",
       "    <tr style=\"text-align: right;\">\n",
       "      <th></th>\n",
       "      <th>title</th>\n",
       "      <th>author</th>\n",
       "      <th>views</th>\n",
       "      <th>likes</th>\n",
       "      <th>link</th>\n",
       "      <th>month</th>\n",
       "      <th>year</th>\n",
       "    </tr>\n",
       "  </thead>\n",
       "  <tbody>\n",
       "    <tr>\n",
       "      <th>738</th>\n",
       "      <td>Love letters to what we hold dear</td>\n",
       "      <td>Debbie Millman</td>\n",
       "      <td>192000</td>\n",
       "      <td>5700</td>\n",
       "      <td>https://ted.com/talks/debbie_millman_love_lett...</td>\n",
       "      <td>January</td>\n",
       "      <td>1970</td>\n",
       "    </tr>\n",
       "  </tbody>\n",
       "</table>\n",
       "</div>"
      ],
      "text/plain": [
       "                                 title          author   views  likes  \\\n",
       "738  Love letters to what we hold dear  Debbie Millman  192000   5700   \n",
       "\n",
       "                                                  link    month  year  \n",
       "738  https://ted.com/talks/debbie_millman_love_lett...  January  1970  "
      ]
     },
     "execution_count": 13,
     "metadata": {},
     "output_type": "execute_result"
    }
   ],
   "source": [
    "# Cual es la primer charla en los registros de Ted Talks?\n",
    "\n",
    "# Ordenamos el dataset por fecha y mostramos el primer registro\n",
    "talks_clean.sort_values(by=['year'], ascending=True).head(1)"
   ]
  },
  {
   "cell_type": "code",
   "execution_count": 28,
   "metadata": {},
   "outputs": [
    {
     "data": {
      "text/plain": [
       "2019    544\n",
       "2020    501\n",
       "2017    495\n",
       "2018    473\n",
       "2016    399\n",
       "2021    390\n",
       "2013    388\n",
       "2015    376\n",
       "2014    357\n",
       "2012    302\n",
       "2011    271\n",
       "2010    267\n",
       "2009    233\n",
       "2007    113\n",
       "2008     84\n",
       "2005     65\n",
       "2006     49\n",
       "2003     34\n",
       "2004     33\n",
       "2002     26\n",
       "2022     20\n",
       "1998      6\n",
       "2001      5\n",
       "1970      2\n",
       "1990      1\n",
       "1994      1\n",
       "1991      1\n",
       "1983      1\n",
       "1972      1\n",
       "1984      1\n",
       "Name: year, dtype: int64"
      ]
     },
     "execution_count": 28,
     "metadata": {},
     "output_type": "execute_result"
    }
   ],
   "source": [
    "# Numero de platicas por año. De mayor a menor\n",
    "talks_clean['year'].value_counts(sort=True)"
   ]
  },
  {
   "cell_type": "code",
   "execution_count": 15,
   "metadata": {},
   "outputs": [
    {
     "data": {
      "text/plain": [
       "30"
      ]
     },
     "execution_count": 15,
     "metadata": {},
     "output_type": "execute_result"
    }
   ],
   "source": [
    "# Cuantos años hay en el dataset?\n",
    "talks_clean['year'].nunique()"
   ]
  },
  {
   "cell_type": "code",
   "execution_count": 16,
   "metadata": {},
   "outputs": [
    {
     "data": {
      "text/plain": [
       "title\n",
       "Do schools kill creativity?                                            2100000\n",
       "Your body language may shape who you are                               1900000\n",
       "Inside the mind of a master procrastinator                             1800000\n",
       "The power of vulnerability                                             1700000\n",
       "How great leaders inspire action                                       1700000\n",
       "How to speak so that people want to listen                             1400000\n",
       "My philosophy for a happy life                                         1300000\n",
       "The next outbreak? We're not ready                                     1300000\n",
       "What makes a good life? Lessons from the longest study on happiness    1200000\n",
       "Looks aren't everything. Believe me, I'm a model.                      1100000\n",
       "Name: likes, dtype: int64"
      ]
     },
     "execution_count": 16,
     "metadata": {},
     "output_type": "execute_result"
    }
   ],
   "source": [
    "# Top 10 ted talks con mas likes\n",
    "talks_clean.groupby('title')['likes'].sum().sort_values(ascending = False).head(10)\n"
   ]
  },
  {
   "cell_type": "code",
   "execution_count": 17,
   "metadata": {},
   "outputs": [
    {
     "data": {
      "text/plain": [
       "title\n",
       "Do schools kill creativity?                                            72000000\n",
       "Your body language may shape who you are                               64000000\n",
       "Inside the mind of a master procrastinator                             60000000\n",
       "How great leaders inspire action                                       57000000\n",
       "The power of vulnerability                                             56000000\n",
       "How to speak so that people want to listen                             49000000\n",
       "The next outbreak? We're not ready                                     43000000\n",
       "My philosophy for a happy life                                         43000000\n",
       "What makes a good life? Lessons from the longest study on happiness    41000000\n",
       "Looks aren't everything. Believe me, I'm a model.                      38000000\n",
       "Name: views, dtype: int64"
      ]
     },
     "execution_count": 17,
     "metadata": {},
     "output_type": "execute_result"
    }
   ],
   "source": [
    "# Top 10 ted talks con mas vistas\n",
    "talks_clean.groupby('title')['views'].sum().sort_values(ascending = False).head(10)\n"
   ]
  },
  {
   "cell_type": "markdown",
   "metadata": {},
   "source": [
    "### Exportar:\n",
    "\n",
    "Esta linea se dejara comentada para que no se guarde cada vez que se ejecute el notebook"
   ]
  },
  {
   "cell_type": "code",
   "execution_count": 18,
   "metadata": {},
   "outputs": [],
   "source": [
    "# talks_clean.to_csv('clean_data/ted_talks_clean.csv', index=False)"
   ]
  }
 ],
 "metadata": {
  "interpreter": {
   "hash": "7c7891e7cf380ed489d75a267c4c9edc21b025f50aaae629f7ee24d6d95fc690"
  },
  "kernelspec": {
   "display_name": "Python 3.10.2 64-bit",
   "language": "python",
   "name": "python3"
  },
  "language_info": {
   "codemirror_mode": {
    "name": "ipython",
    "version": 3
   },
   "file_extension": ".py",
   "mimetype": "text/x-python",
   "name": "python",
   "nbconvert_exporter": "python",
   "pygments_lexer": "ipython3",
   "version": "3.10.2"
  },
  "orig_nbformat": 4
 },
 "nbformat": 4,
 "nbformat_minor": 2
}
